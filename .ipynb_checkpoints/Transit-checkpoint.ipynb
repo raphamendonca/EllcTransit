{
 "cells": [
  {
   "cell_type": "code",
   "execution_count": null,
   "metadata": {
    "collapsed": false,
    "scrolled": false
   },
   "outputs": [],
   "source": [
    "import ellc\n",
    "\n",
    "#print(ellc.__doc__)\n",
    "print(ellc.lc.__doc__)\n"
   ]
  },
  {
   "cell_type": "code",
   "execution_count": null,
   "metadata": {
    "collapsed": false
   },
   "outputs": [],
   "source": [
    "import ellc\n",
    "import numpy as np\n",
    "\n",
    "import matplotlib.pyplot as plt\n",
    "\n",
    "t = np.arange(-0.25,0.75, 0.001)\n",
    "\n",
    "spots_1 = [[30,180],[45,-45],[25,35],[0.2,0.8]]\n",
    "\n",
    "flux = ellc.lc(\n",
    "    t,\n",
    "    #Raio da primeira estrela\n",
    "    radius_1 = 0.2,\n",
    "    #Raio da segunda estrela\n",
    "    radius_2 = 0.00000000001,\n",
    "    \n",
    "    sbratio=0.2,\n",
    "    incl=89.95,\n",
    "    \n",
    "    q=0.5,\n",
    "    \n",
    "    #Limb Darkening da primeira estrela\n",
    "    ld_1 = 'quad',\n",
    "    ldc_1 = [0.65,0.2],\n",
    "    \n",
    "    #Limb Darkening da segunda estrela\n",
    "    #ld_2='lin',\n",
    "    #ldc_2=0.45,\n",
    "    ld_2 = 'quad',\n",
    "    ldc_2 = [0.0, 0.0],\n",
    "    \n",
    "    shape_1 = 'poly3p0',\n",
    "    #shape_2='poly1p5',\n",
    "    shape_2 = 'poly3p0',\n",
    "    \n",
    "    spots_1 = spots_1)\n",
    "\n",
    "plt.plot(t,flux)\n",
    "plt.show()"
   ]
  },
  {
   "cell_type": "code",
   "execution_count": null,
   "metadata": {
    "collapsed": false
   },
   "outputs": [],
   "source": [
    "import matplotlib.pyplot as plt\n",
    "\n",
    "#plt.plot(lc)\n",
    "\n",
    "#plt.show()"
   ]
  },
  {
   "cell_type": "code",
   "execution_count": null,
   "metadata": {
    "collapsed": false
   },
   "outputs": [],
   "source": [
    "from __future__ import (absolute_import, division, print_function,\n",
    "                        unicode_literals)\n",
    "import numpy as np\n",
    "from ellc import ldy,lc\n",
    "import os\n",
    "import emcee\n",
    "from datetime import datetime\n",
    "from astropy.table import Table, Column\n",
    "\n"
   ]
  }
 ],
 "metadata": {
  "kernelspec": {
   "display_name": "Python 3",
   "language": "python",
   "name": "python3"
  },
  "language_info": {
   "codemirror_mode": {
    "name": "ipython",
    "version": 3
   },
   "file_extension": ".py",
   "mimetype": "text/x-python",
   "name": "python",
   "nbconvert_exporter": "python",
   "pygments_lexer": "ipython3",
   "version": "3.6.0"
  }
 },
 "nbformat": 4,
 "nbformat_minor": 2
}
