{
 "cells": [
  {
   "cell_type": "markdown",
   "metadata": {},
   "source": [
    "## Example of running ellc in a Jupyter notebook\n"
   ]
  },
  {
   "cell_type": "code",
   "execution_count": 5,
   "metadata": {
    "scrolled": true
   },
   "outputs": [
    {
     "ename": "SyntaxError",
     "evalue": "invalid syntax (<ipython-input-5-432e71833359>, line 6)",
     "output_type": "error",
     "traceback": [
      "\u001b[0;36m  File \u001b[0;32m\"<ipython-input-5-432e71833359>\"\u001b[0;36m, line \u001b[0;32m6\u001b[0m\n\u001b[0;31m    import\u001b[0m\n\u001b[0m           ^\u001b[0m\n\u001b[0;31mSyntaxError\u001b[0m\u001b[0;31m:\u001b[0m invalid syntax\n"
     ]
    }
   ],
   "source": [
    "%load_ext Cython\n",
    "%pylab inline\n",
    "import ellc\n",
    "import pandas as pd\n",
    "from datetime import datetime\n",
    "\n",
    "rho = 0.4   # Stellar density in solar units\n",
    "period = 1  # Orbital period in days\n",
    "p_rot  = 23.9 # Rotation period of the star in days\n",
    "k = 0.1     # R_planet/R_star \n",
    "a=(3.75226985055)*((period)**(2./3.))*((rho)**(1./3.))   # semi-major axis in solar radii\n",
    "print(\"a = {:.3f} Rsun\".format(a))\n",
    "\n",
    "r_1 = 1/a     # R_star/a\n",
    "r_2 = k*r_1   # R_planet/a\n",
    "\n",
    "# Limb darkening parameters for the star\n",
    "ld_1 = 'quad'\n",
    "ldc_1 = [0.4,0.3]\n",
    "\n",
    "t_zero=0.25   # Time of mid-transit\n",
    "\n",
    "rotfac_1 = period/p_rot\n",
    "\n",
    "# Spots on star\n",
    "spots_1 = [[180-360*t_zero*rotfac_1,120-360*t_zero*rotfac_1],\n",
    "           [0,0],\n",
    "           [5.739170477266787, 8.11641272572196],\n",
    "           [0.5,0.5]]\n",
    "\n",
    "lista_duracoes = []\n",
    "lista_pontos = []\n",
    "lista_processos = []\n",
    "\n",
    "def registraExecucao(curvas, pontos, duracao, processos):\n",
    "    lista_pontos.append(pontos)\n",
    "    lista_duracoes.append(duracao)\n",
    "    lista_processos.append(processos)\n",
    "    \n",
    "    #print( lista_pontos, ' | ', lista_processos ,' | ',lista_duracoes)\n",
    "   \n",
    "    #df = df.append({'Pontos': pontos, 'Duracao' : duracao, 'Processos' : processos}, ignore_index=True)\n",
    "    \n",
    "        \n",
    "def calcFLUX(curvas,pontos):\n",
    "    startTime = datetime.now()\n",
    "    \n",
    "    time = linspace(0,curvas,pontos)\n",
    "    \n",
    "    flux = ellc.lc(time,t_zero=t_zero, period=period, \\\n",
    "        radius_1=r_1, radius_2=r_2,incl=90,sbratio=0, rotfac_1 = rotfac_1, \\\n",
    "        ld_1=ld_1, ldc_1=ldc_1,shape_1='sphere',shape_2='sphere',\\\n",
    "        grid_1='sparse',grid_2='sparse',spots_1=spots_1)\n",
    "\n",
    "    endTime = datetime.now()\n",
    "    duracao = endTime - startTime\n",
    "    \n",
    "    registraExecucao(curvas, pontos, duracao, 1)\n",
    "\n",
    "    \n",
    "def calcFluxMp(curvas, pontos, processos):\n",
    "    startTime = datetime.now()\n",
    "    \n",
    "    time = linspace(0,curvas,pontos)\n",
    "\n",
    "    flux = ellc.lcMp(processos, time, t_zero=t_zero, period=period, \\\n",
    "        radius_1=r_1, radius_2=r_2,incl=90,sbratio=0, rotfac_1 = rotfac_1, \\\n",
    "        ld_1=ld_1, ldc_1=ldc_1,shape_1='sphere',shape_2='sphere',\\\n",
    "        grid_1='sparse',grid_2='sparse',spots_1=spots_1)\n",
    "\n",
    "    endTime = datetime.now()\n",
    "    duracao = endTime - startTime\n",
    "    \n",
    "    registraExecucao(curvas, pontos, duracao, processos)  "
   ]
  },
  {
   "cell_type": "code",
   "execution_count": null,
   "metadata": {},
   "outputs": [],
   "source": [
    "ellc."
   ]
  },
  {
   "cell_type": "code",
   "execution_count": 2,
   "metadata": {},
   "outputs": [
    {
     "ename": "AttributeError",
     "evalue": "module 'ellc' has no attribute 'lcMp'",
     "output_type": "error",
     "traceback": [
      "\u001b[0;31m---------------------------------------------------------------------------\u001b[0m",
      "\u001b[0;31mAttributeError\u001b[0m                            Traceback (most recent call last)",
      "\u001b[0;32m<ipython-input-2-c72b0d29d4ca>\u001b[0m in \u001b[0;36m<module>\u001b[0;34m()\u001b[0m\n\u001b[1;32m      1\u001b[0m \u001b[0mcalcFLUX\u001b[0m\u001b[0;34m(\u001b[0m  \u001b[0;36m25\u001b[0m\u001b[0;34m,\u001b[0m \u001b[0;36m10000\u001b[0m\u001b[0;34m)\u001b[0m\u001b[0;34m\u001b[0m\u001b[0m\n\u001b[0;32m----> 2\u001b[0;31m \u001b[0mcalcFluxMp\u001b[0m\u001b[0;34m(\u001b[0m\u001b[0;36m25\u001b[0m\u001b[0;34m,\u001b[0m \u001b[0;36m10000\u001b[0m\u001b[0;34m,\u001b[0m \u001b[0;36m2\u001b[0m\u001b[0;34m)\u001b[0m\u001b[0;34m\u001b[0m\u001b[0m\n\u001b[0m\u001b[1;32m      3\u001b[0m \u001b[0;34m\u001b[0m\u001b[0m\n\u001b[1;32m      4\u001b[0m \u001b[0mdf\u001b[0m \u001b[0;34m=\u001b[0m \u001b[0mpd\u001b[0m\u001b[0;34m.\u001b[0m\u001b[0mDataFrame\u001b[0m\u001b[0;34m(\u001b[0m\u001b[0;34m{\u001b[0m\u001b[0;34m\"Pontos\"\u001b[0m\u001b[0;34m:\u001b[0m \u001b[0mlista_pontos\u001b[0m\u001b[0;34m,\u001b[0m \u001b[0;34m\"Processos\"\u001b[0m\u001b[0;34m:\u001b[0m \u001b[0mlista_processos\u001b[0m\u001b[0;34m,\u001b[0m \u001b[0;34m\"Duração\"\u001b[0m\u001b[0;34m:\u001b[0m \u001b[0mlista_duracoes\u001b[0m \u001b[0;34m}\u001b[0m\u001b[0;34m)\u001b[0m\u001b[0;34m\u001b[0m\u001b[0m\n\u001b[1;32m      5\u001b[0m \u001b[0mprint\u001b[0m\u001b[0;34m(\u001b[0m\u001b[0mdf\u001b[0m\u001b[0;34m)\u001b[0m\u001b[0;34m\u001b[0m\u001b[0m\n",
      "\u001b[0;32m<ipython-input-1-3567c7f89d75>\u001b[0m in \u001b[0;36mcalcFluxMp\u001b[0;34m(curvas, pontos, processos)\u001b[0m\n\u001b[1;32m     62\u001b[0m     \u001b[0mtime\u001b[0m \u001b[0;34m=\u001b[0m \u001b[0mlinspace\u001b[0m\u001b[0;34m(\u001b[0m\u001b[0;36m0\u001b[0m\u001b[0;34m,\u001b[0m\u001b[0mcurvas\u001b[0m\u001b[0;34m,\u001b[0m\u001b[0mpontos\u001b[0m\u001b[0;34m)\u001b[0m\u001b[0;34m\u001b[0m\u001b[0m\n\u001b[1;32m     63\u001b[0m \u001b[0;34m\u001b[0m\u001b[0m\n\u001b[0;32m---> 64\u001b[0;31m     \u001b[0mflux\u001b[0m \u001b[0;34m=\u001b[0m \u001b[0mellc\u001b[0m\u001b[0;34m.\u001b[0m\u001b[0mlcMp\u001b[0m\u001b[0;34m(\u001b[0m\u001b[0mprocessos\u001b[0m\u001b[0;34m,\u001b[0m \u001b[0mtime\u001b[0m\u001b[0;34m,\u001b[0m \u001b[0mt_zero\u001b[0m\u001b[0;34m=\u001b[0m\u001b[0mt_zero\u001b[0m\u001b[0;34m,\u001b[0m \u001b[0mperiod\u001b[0m\u001b[0;34m=\u001b[0m\u001b[0mperiod\u001b[0m\u001b[0;34m,\u001b[0m         \u001b[0mradius_1\u001b[0m\u001b[0;34m=\u001b[0m\u001b[0mr_1\u001b[0m\u001b[0;34m,\u001b[0m \u001b[0mradius_2\u001b[0m\u001b[0;34m=\u001b[0m\u001b[0mr_2\u001b[0m\u001b[0;34m,\u001b[0m\u001b[0mincl\u001b[0m\u001b[0;34m=\u001b[0m\u001b[0;36m90\u001b[0m\u001b[0;34m,\u001b[0m\u001b[0msbratio\u001b[0m\u001b[0;34m=\u001b[0m\u001b[0;36m0\u001b[0m\u001b[0;34m,\u001b[0m \u001b[0mrotfac_1\u001b[0m \u001b[0;34m=\u001b[0m \u001b[0mrotfac_1\u001b[0m\u001b[0;34m,\u001b[0m         \u001b[0mld_1\u001b[0m\u001b[0;34m=\u001b[0m\u001b[0mld_1\u001b[0m\u001b[0;34m,\u001b[0m \u001b[0mldc_1\u001b[0m\u001b[0;34m=\u001b[0m\u001b[0mldc_1\u001b[0m\u001b[0;34m,\u001b[0m\u001b[0mshape_1\u001b[0m\u001b[0;34m=\u001b[0m\u001b[0;34m'sphere'\u001b[0m\u001b[0;34m,\u001b[0m\u001b[0mshape_2\u001b[0m\u001b[0;34m=\u001b[0m\u001b[0;34m'sphere'\u001b[0m\u001b[0;34m,\u001b[0m        \u001b[0mgrid_1\u001b[0m\u001b[0;34m=\u001b[0m\u001b[0;34m'sparse'\u001b[0m\u001b[0;34m,\u001b[0m\u001b[0mgrid_2\u001b[0m\u001b[0;34m=\u001b[0m\u001b[0;34m'sparse'\u001b[0m\u001b[0;34m,\u001b[0m\u001b[0mspots_1\u001b[0m\u001b[0;34m=\u001b[0m\u001b[0mspots_1\u001b[0m\u001b[0;34m)\u001b[0m\u001b[0;34m\u001b[0m\u001b[0m\n\u001b[0m\u001b[1;32m     65\u001b[0m \u001b[0;34m\u001b[0m\u001b[0m\n\u001b[1;32m     66\u001b[0m     \u001b[0mendTime\u001b[0m \u001b[0;34m=\u001b[0m \u001b[0mdatetime\u001b[0m\u001b[0;34m.\u001b[0m\u001b[0mnow\u001b[0m\u001b[0;34m(\u001b[0m\u001b[0;34m)\u001b[0m\u001b[0;34m\u001b[0m\u001b[0m\n",
      "\u001b[0;31mAttributeError\u001b[0m: module 'ellc' has no attribute 'lcMp'"
     ]
    }
   ],
   "source": [
    "calcFLUX(  25, 10000)\n",
    "calcFluxMp(25, 10000, 2)\n",
    "\n",
    "df = pd.DataFrame({\"Pontos\": lista_pontos, \"Processos\": lista_processos, \"Duração\": lista_duracoes })\n",
    "print(df)"
   ]
  },
  {
   "cell_type": "code",
   "execution_count": null,
   "metadata": {},
   "outputs": [],
   "source": [
    "import cython\n"
   ]
  },
  {
   "cell_type": "code",
   "execution_count": null,
   "metadata": {},
   "outputs": [],
   "source": []
  }
 ],
 "metadata": {
  "kernelspec": {
   "display_name": "Python 3",
   "language": "python",
   "name": "python3"
  },
  "language_info": {
   "codemirror_mode": {
    "name": "ipython",
    "version": 3
   },
   "file_extension": ".py",
   "mimetype": "text/x-python",
   "name": "python",
   "nbconvert_exporter": "python",
   "pygments_lexer": "ipython3",
   "version": "3.5.2"
  }
 },
 "nbformat": 4,
 "nbformat_minor": 2
}
