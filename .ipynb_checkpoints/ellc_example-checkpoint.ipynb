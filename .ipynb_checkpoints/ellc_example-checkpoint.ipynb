{
 "cells": [
  {
   "cell_type": "markdown",
   "metadata": {},
   "source": [
    "## Example of running ellc in a Jupyter notebook\n"
   ]
  },
  {
   "cell_type": "code",
   "execution_count": 11,
   "metadata": {
    "scrolled": false
   },
   "outputs": [
    {
     "name": "stdout",
     "output_type": "stream",
     "text": [
      "Populating the interactive namespace from numpy and matplotlib\n",
      "a = 2.765 Rsun\n"
     ]
    },
    {
     "name": "stderr",
     "output_type": "stream",
     "text": [
      "/home/rhapy/Projects/EllcOpen/lib/python3.5/site-packages/IPython/core/magics/pylab.py:160: UserWarning: pylab import has clobbered these variables: ['datetime']\n",
      "`%matplotlib` prevents importing * from pylab and numpy\n",
      "  \"\\n`%matplotlib` prevents importing * from pylab and numpy\"\n"
     ]
    }
   ],
   "source": [
    "%pylab inline\n",
    "import ellc\n",
    "import pandas as pd\n",
    "from datetime import datetime\n",
    "\n",
    "\n",
    "rho = 0.4   # Stellar density in solar units\n",
    "period = 1  # Orbital period in days\n",
    "p_rot  = 23.9 # Rotation period of the star in days\n",
    "k = 0.1     # R_planet/R_star \n",
    "a=(3.75226985055)*((period)**(2./3.))*((rho)**(1./3.))   # semi-major axis in solar radii\n",
    "print(\"a = {:.3f} Rsun\".format(a))\n",
    "\n",
    "r_1 = 1/a     # R_star/a\n",
    "r_2 = k*r_1   # R_planet/a\n",
    "\n",
    "# Limb darkening parameters for the star\n",
    "ld_1 = 'quad'\n",
    "ldc_1 = [0.4,0.3]\n",
    "\n",
    "t_zero=0.25   # Time of mid-transit\n",
    "\n",
    "rotfac_1 = period/p_rot\n",
    "\n",
    "# Spots on star\n",
    "spots_1 = [[180-360*t_zero*rotfac_1,120-360*t_zero*rotfac_1],\n",
    "           [0,0],\n",
    "           [5.739170477266787, 8.11641272572196],\n",
    "           [0.5,0.5]]\n",
    "\n",
    "lista_duracoes = []\n",
    "lista_pontos = []\n",
    "lista_processos = []\n",
    "\n",
    "def registraExecucao(curvas, pontos, duracao, processos):\n",
    "    lista_pontos.append(pontos)\n",
    "    lista_duracoes.append(duracao)\n",
    "    lista_processos.append(processos)\n",
    "    \n",
    "    #print( lista_pontos, ' | ', lista_processos ,' | ',lista_duracoes)\n",
    "   \n",
    "    #df = df.append({'Pontos': pontos, 'Duracao' : duracao, 'Processos' : processos}, ignore_index=True)\n",
    "    \n",
    "        \n",
    "def calcFLUX(curvas,pontos):\n",
    "    startTime = datetime.now()\n",
    "    \n",
    "    time = linspace(0,curvas,pontos)\n",
    "    \n",
    "    flux = ellc.lc(time,t_zero=t_zero, period=period, \\\n",
    "        radius_1=r_1, radius_2=r_2,incl=90,sbratio=0, rotfac_1 = rotfac_1, \\\n",
    "        ld_1=ld_1, ldc_1=ldc_1,shape_1='sphere',shape_2='sphere',\\\n",
    "        grid_1='sparse',grid_2='sparse',spots_1=spots_1)\n",
    "\n",
    "    endTime = datetime.now()\n",
    "    duracao = endTime - startTime\n",
    "    \n",
    "    registraExecucao(curvas, pontos, duracao, 1)\n",
    "\n",
    "    \n",
    "def calcFluxMp(curvas, pontos, processos):\n",
    "    startTime = datetime.now()\n",
    "    \n",
    "    time = linspace(0,curvas,pontos)\n",
    "\n",
    "    flux = ellc.lcMp(processos, time, t_zero=t_zero, period=period, \\\n",
    "        radius_1=r_1, radius_2=r_2,incl=90,sbratio=0, rotfac_1 = rotfac_1, \\\n",
    "        ld_1=ld_1, ldc_1=ldc_1,shape_1='sphere',shape_2='sphere',\\\n",
    "        grid_1='sparse',grid_2='sparse',spots_1=spots_1)\n",
    "\n",
    "    endTime = datetime.now()\n",
    "    duracao = endTime - startTime\n",
    "    \n",
    "    registraExecucao(curvas, pontos, duracao, processos)  "
   ]
  },
  {
   "cell_type": "code",
   "execution_count": null,
   "metadata": {},
   "outputs": [],
   "source": [
    "calcFLUX(  25, 500000)\n",
    "calcFluxMp(25, 500000, 2)\n",
    "\n",
    "df = pd.DataFrame({\"Pontos\": lista_pontos, \"Processos\": lista_processos, \"Duração\": lista_duracoes })\n",
    "print(df)"
   ]
  },
  {
   "cell_type": "code",
   "execution_count": null,
   "metadata": {},
   "outputs": [],
   "source": []
  }
 ],
 "metadata": {
  "kernelspec": {
   "display_name": "Python 3",
   "language": "python",
   "name": "python3"
  },
  "language_info": {
   "codemirror_mode": {
    "name": "ipython",
    "version": 3
   },
   "file_extension": ".py",
   "mimetype": "text/x-python",
   "name": "python",
   "nbconvert_exporter": "python",
   "pygments_lexer": "ipython3",
   "version": "3.5.2"
  }
 },
 "nbformat": 4,
 "nbformat_minor": 2
}
